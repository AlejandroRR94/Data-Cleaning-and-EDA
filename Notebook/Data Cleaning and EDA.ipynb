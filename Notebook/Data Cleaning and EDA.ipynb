{
 "cells": [
  {
   "cell_type": "markdown",
   "metadata": {},
   "source": [
    "Import libraries"
   ]
  },
  {
   "cell_type": "code",
   "execution_count": 1,
   "metadata": {},
   "outputs": [],
   "source": [
    "#Data wrangling\n",
    "import pandas as pd \n",
    "\n",
    "#Linear Algebra\n",
    "import numpy as np \n",
    "\n",
    "\n",
    "#Visualizations\n",
    "import matplotlib.pyplot as plt\n",
    "import seaborn as sns\n",
    "\n",
    "import warnings\n",
    "\n",
    "warnings.filterwarnings('ignore')"
   ]
  },
  {
   "cell_type": "code",
   "execution_count": 2,
   "metadata": {},
   "outputs": [],
   "source": [
    "path = '../Data/data.csv'"
   ]
  },
  {
   "cell_type": "code",
   "execution_count": 3,
   "metadata": {},
   "outputs": [],
   "source": [
    "rawdata = pd.read_csv(path)"
   ]
  },
  {
   "cell_type": "code",
   "execution_count": 4,
   "metadata": {},
   "outputs": [
    {
     "data": {
      "text/html": [
       "<div>\n",
       "<style scoped>\n",
       "    .dataframe tbody tr th:only-of-type {\n",
       "        vertical-align: middle;\n",
       "    }\n",
       "\n",
       "    .dataframe tbody tr th {\n",
       "        vertical-align: top;\n",
       "    }\n",
       "\n",
       "    .dataframe thead th {\n",
       "        text-align: right;\n",
       "    }\n",
       "</style>\n",
       "<table border=\"1\" class=\"dataframe\">\n",
       "  <thead>\n",
       "    <tr style=\"text-align: right;\">\n",
       "      <th></th>\n",
       "      <th>Unnamed: 0</th>\n",
       "      <th>2016</th>\n",
       "      <th>2016.1</th>\n",
       "      <th>2016.2</th>\n",
       "      <th>2015</th>\n",
       "      <th>2015.1</th>\n",
       "      <th>2015.2</th>\n",
       "      <th>2014</th>\n",
       "      <th>2014.1</th>\n",
       "      <th>2014.2</th>\n",
       "      <th>...</th>\n",
       "      <th>1978.2</th>\n",
       "      <th>1977</th>\n",
       "      <th>1977.1</th>\n",
       "      <th>1977.2</th>\n",
       "      <th>1976</th>\n",
       "      <th>1976.1</th>\n",
       "      <th>1976.2</th>\n",
       "      <th>1975</th>\n",
       "      <th>1975.1</th>\n",
       "      <th>1975.2</th>\n",
       "    </tr>\n",
       "  </thead>\n",
       "  <tbody>\n",
       "    <tr>\n",
       "      <th>0</th>\n",
       "      <td>NaN</td>\n",
       "      <td>Prevalence of obesity among adults, BMI &amp;Great...</td>\n",
       "      <td>Prevalence of obesity among adults, BMI &amp;Great...</td>\n",
       "      <td>Prevalence of obesity among adults, BMI &amp;Great...</td>\n",
       "      <td>Prevalence of obesity among adults, BMI &amp;Great...</td>\n",
       "      <td>Prevalence of obesity among adults, BMI &amp;Great...</td>\n",
       "      <td>Prevalence of obesity among adults, BMI &amp;Great...</td>\n",
       "      <td>Prevalence of obesity among adults, BMI &amp;Great...</td>\n",
       "      <td>Prevalence of obesity among adults, BMI &amp;Great...</td>\n",
       "      <td>Prevalence of obesity among adults, BMI &amp;Great...</td>\n",
       "      <td>...</td>\n",
       "      <td>Prevalence of obesity among adults, BMI &amp;Great...</td>\n",
       "      <td>Prevalence of obesity among adults, BMI &amp;Great...</td>\n",
       "      <td>Prevalence of obesity among adults, BMI &amp;Great...</td>\n",
       "      <td>Prevalence of obesity among adults, BMI &amp;Great...</td>\n",
       "      <td>Prevalence of obesity among adults, BMI &amp;Great...</td>\n",
       "      <td>Prevalence of obesity among adults, BMI &amp;Great...</td>\n",
       "      <td>Prevalence of obesity among adults, BMI &amp;Great...</td>\n",
       "      <td>Prevalence of obesity among adults, BMI &amp;Great...</td>\n",
       "      <td>Prevalence of obesity among adults, BMI &amp;Great...</td>\n",
       "      <td>Prevalence of obesity among adults, BMI &amp;Great...</td>\n",
       "    </tr>\n",
       "    <tr>\n",
       "      <th>1</th>\n",
       "      <td>NaN</td>\n",
       "      <td>18+  years</td>\n",
       "      <td>18+  years</td>\n",
       "      <td>18+  years</td>\n",
       "      <td>18+  years</td>\n",
       "      <td>18+  years</td>\n",
       "      <td>18+  years</td>\n",
       "      <td>18+  years</td>\n",
       "      <td>18+  years</td>\n",
       "      <td>18+  years</td>\n",
       "      <td>...</td>\n",
       "      <td>18+  years</td>\n",
       "      <td>18+  years</td>\n",
       "      <td>18+  years</td>\n",
       "      <td>18+  years</td>\n",
       "      <td>18+  years</td>\n",
       "      <td>18+  years</td>\n",
       "      <td>18+  years</td>\n",
       "      <td>18+  years</td>\n",
       "      <td>18+  years</td>\n",
       "      <td>18+  years</td>\n",
       "    </tr>\n",
       "    <tr>\n",
       "      <th>2</th>\n",
       "      <td>Country</td>\n",
       "      <td>Both sexes</td>\n",
       "      <td>Male</td>\n",
       "      <td>Female</td>\n",
       "      <td>Both sexes</td>\n",
       "      <td>Male</td>\n",
       "      <td>Female</td>\n",
       "      <td>Both sexes</td>\n",
       "      <td>Male</td>\n",
       "      <td>Female</td>\n",
       "      <td>...</td>\n",
       "      <td>Female</td>\n",
       "      <td>Both sexes</td>\n",
       "      <td>Male</td>\n",
       "      <td>Female</td>\n",
       "      <td>Both sexes</td>\n",
       "      <td>Male</td>\n",
       "      <td>Female</td>\n",
       "      <td>Both sexes</td>\n",
       "      <td>Male</td>\n",
       "      <td>Female</td>\n",
       "    </tr>\n",
       "    <tr>\n",
       "      <th>3</th>\n",
       "      <td>Afghanistan</td>\n",
       "      <td>5.5 [3.4-8.1]</td>\n",
       "      <td>3.2 [1.3-6.4]</td>\n",
       "      <td>7.6 [4.3-12.4]</td>\n",
       "      <td>5.2 [3.3-7.7]</td>\n",
       "      <td>3.0 [1.3-6.0]</td>\n",
       "      <td>7.3 [4.1-11.8]</td>\n",
       "      <td>4.9 [3.1-7.3]</td>\n",
       "      <td>2.8 [1.2-5.6]</td>\n",
       "      <td>7.0 [4.0-11.3]</td>\n",
       "      <td>...</td>\n",
       "      <td>0.9 [0.3-2.2]</td>\n",
       "      <td>0.6 [0.2-1.2]</td>\n",
       "      <td>0.2 [0.0-0.7]</td>\n",
       "      <td>0.9 [0.3-2.1]</td>\n",
       "      <td>0.5 [0.2-1.1]</td>\n",
       "      <td>0.2 [0.0-0.7]</td>\n",
       "      <td>0.8 [0.2-2.0]</td>\n",
       "      <td>0.5 [0.2-1.1]</td>\n",
       "      <td>0.2 [0.0-0.6]</td>\n",
       "      <td>0.8 [0.2-2.0]</td>\n",
       "    </tr>\n",
       "    <tr>\n",
       "      <th>4</th>\n",
       "      <td>Albania</td>\n",
       "      <td>21.7 [17.0-26.7]</td>\n",
       "      <td>21.6 [14.8-29.0]</td>\n",
       "      <td>21.8 [15.3-28.9]</td>\n",
       "      <td>21.1 [16.6-26.0]</td>\n",
       "      <td>20.9 [14.4-28.1]</td>\n",
       "      <td>21.3 [15.1-28.1]</td>\n",
       "      <td>20.5 [16.2-25.1]</td>\n",
       "      <td>20.2 [13.9-27.3]</td>\n",
       "      <td>20.8 [14.9-27.4]</td>\n",
       "      <td>...</td>\n",
       "      <td>9.1 [4.6-15.5]</td>\n",
       "      <td>6.8 [4.0-10.7]</td>\n",
       "      <td>4.8 [2.0-9.3]</td>\n",
       "      <td>8.9 [4.3-15.4]</td>\n",
       "      <td>6.7 [3.8-10.6]</td>\n",
       "      <td>4.6 [1.8-9.2]</td>\n",
       "      <td>8.8 [4.1-15.4]</td>\n",
       "      <td>6.5 [3.6-10.5]</td>\n",
       "      <td>4.4 [1.7-9.2]</td>\n",
       "      <td>8.6 [3.9-15.4]</td>\n",
       "    </tr>\n",
       "  </tbody>\n",
       "</table>\n",
       "<p>5 rows × 127 columns</p>\n",
       "</div>"
      ],
      "text/plain": [
       "    Unnamed: 0                                               2016  \\\n",
       "0          NaN  Prevalence of obesity among adults, BMI &Great...   \n",
       "1          NaN                                         18+  years   \n",
       "2      Country                                         Both sexes   \n",
       "3  Afghanistan                                      5.5 [3.4-8.1]   \n",
       "4      Albania                                   21.7 [17.0-26.7]   \n",
       "\n",
       "                                              2016.1  \\\n",
       "0  Prevalence of obesity among adults, BMI &Great...   \n",
       "1                                         18+  years   \n",
       "2                                               Male   \n",
       "3                                      3.2 [1.3-6.4]   \n",
       "4                                   21.6 [14.8-29.0]   \n",
       "\n",
       "                                              2016.2  \\\n",
       "0  Prevalence of obesity among adults, BMI &Great...   \n",
       "1                                         18+  years   \n",
       "2                                             Female   \n",
       "3                                     7.6 [4.3-12.4]   \n",
       "4                                   21.8 [15.3-28.9]   \n",
       "\n",
       "                                                2015  \\\n",
       "0  Prevalence of obesity among adults, BMI &Great...   \n",
       "1                                         18+  years   \n",
       "2                                         Both sexes   \n",
       "3                                      5.2 [3.3-7.7]   \n",
       "4                                   21.1 [16.6-26.0]   \n",
       "\n",
       "                                              2015.1  \\\n",
       "0  Prevalence of obesity among adults, BMI &Great...   \n",
       "1                                         18+  years   \n",
       "2                                               Male   \n",
       "3                                      3.0 [1.3-6.0]   \n",
       "4                                   20.9 [14.4-28.1]   \n",
       "\n",
       "                                              2015.2  \\\n",
       "0  Prevalence of obesity among adults, BMI &Great...   \n",
       "1                                         18+  years   \n",
       "2                                             Female   \n",
       "3                                     7.3 [4.1-11.8]   \n",
       "4                                   21.3 [15.1-28.1]   \n",
       "\n",
       "                                                2014  \\\n",
       "0  Prevalence of obesity among adults, BMI &Great...   \n",
       "1                                         18+  years   \n",
       "2                                         Both sexes   \n",
       "3                                      4.9 [3.1-7.3]   \n",
       "4                                   20.5 [16.2-25.1]   \n",
       "\n",
       "                                              2014.1  \\\n",
       "0  Prevalence of obesity among adults, BMI &Great...   \n",
       "1                                         18+  years   \n",
       "2                                               Male   \n",
       "3                                      2.8 [1.2-5.6]   \n",
       "4                                   20.2 [13.9-27.3]   \n",
       "\n",
       "                                              2014.2  ...  \\\n",
       "0  Prevalence of obesity among adults, BMI &Great...  ...   \n",
       "1                                         18+  years  ...   \n",
       "2                                             Female  ...   \n",
       "3                                     7.0 [4.0-11.3]  ...   \n",
       "4                                   20.8 [14.9-27.4]  ...   \n",
       "\n",
       "                                              1978.2  \\\n",
       "0  Prevalence of obesity among adults, BMI &Great...   \n",
       "1                                         18+  years   \n",
       "2                                             Female   \n",
       "3                                      0.9 [0.3-2.2]   \n",
       "4                                     9.1 [4.6-15.5]   \n",
       "\n",
       "                                                1977  \\\n",
       "0  Prevalence of obesity among adults, BMI &Great...   \n",
       "1                                         18+  years   \n",
       "2                                         Both sexes   \n",
       "3                                      0.6 [0.2-1.2]   \n",
       "4                                     6.8 [4.0-10.7]   \n",
       "\n",
       "                                              1977.1  \\\n",
       "0  Prevalence of obesity among adults, BMI &Great...   \n",
       "1                                         18+  years   \n",
       "2                                               Male   \n",
       "3                                      0.2 [0.0-0.7]   \n",
       "4                                      4.8 [2.0-9.3]   \n",
       "\n",
       "                                              1977.2  \\\n",
       "0  Prevalence of obesity among adults, BMI &Great...   \n",
       "1                                         18+  years   \n",
       "2                                             Female   \n",
       "3                                      0.9 [0.3-2.1]   \n",
       "4                                     8.9 [4.3-15.4]   \n",
       "\n",
       "                                                1976  \\\n",
       "0  Prevalence of obesity among adults, BMI &Great...   \n",
       "1                                         18+  years   \n",
       "2                                         Both sexes   \n",
       "3                                      0.5 [0.2-1.1]   \n",
       "4                                     6.7 [3.8-10.6]   \n",
       "\n",
       "                                              1976.1  \\\n",
       "0  Prevalence of obesity among adults, BMI &Great...   \n",
       "1                                         18+  years   \n",
       "2                                               Male   \n",
       "3                                      0.2 [0.0-0.7]   \n",
       "4                                      4.6 [1.8-9.2]   \n",
       "\n",
       "                                              1976.2  \\\n",
       "0  Prevalence of obesity among adults, BMI &Great...   \n",
       "1                                         18+  years   \n",
       "2                                             Female   \n",
       "3                                      0.8 [0.2-2.0]   \n",
       "4                                     8.8 [4.1-15.4]   \n",
       "\n",
       "                                                1975  \\\n",
       "0  Prevalence of obesity among adults, BMI &Great...   \n",
       "1                                         18+  years   \n",
       "2                                         Both sexes   \n",
       "3                                      0.5 [0.2-1.1]   \n",
       "4                                     6.5 [3.6-10.5]   \n",
       "\n",
       "                                              1975.1  \\\n",
       "0  Prevalence of obesity among adults, BMI &Great...   \n",
       "1                                         18+  years   \n",
       "2                                               Male   \n",
       "3                                      0.2 [0.0-0.6]   \n",
       "4                                      4.4 [1.7-9.2]   \n",
       "\n",
       "                                              1975.2  \n",
       "0  Prevalence of obesity among adults, BMI &Great...  \n",
       "1                                         18+  years  \n",
       "2                                             Female  \n",
       "3                                      0.8 [0.2-2.0]  \n",
       "4                                     8.6 [3.9-15.4]  \n",
       "\n",
       "[5 rows x 127 columns]"
      ]
     },
     "execution_count": 4,
     "metadata": {},
     "output_type": "execute_result"
    }
   ],
   "source": [
    "rawdata.head()"
   ]
  },
  {
   "cell_type": "markdown",
   "metadata": {},
   "source": [
    "Data is not analytics-friendly, or anything data science-friendly, for that matter. First thing that must be done is transform it into a more computer-friendly  format, from wide-format to long-format. To do so, the **pandas function: melt()** will come in real handy."
   ]
  },
  {
   "cell_type": "code",
   "execution_count": 5,
   "metadata": {},
   "outputs": [],
   "source": [
    "#Rename that first column as 'Country'\n",
    "rawdata.rename(columns = {'Unnamed: 0': 'Country'}, inplace = True)"
   ]
  },
  {
   "cell_type": "markdown",
   "metadata": {},
   "source": [
    "To use the *melt()* function, it is necessary to state which column will be the one to be used as identifier variable. In this case, it will be de *Country* column, since it will be the one that identifies each entry's country. Following, there will have to be a variable specified, which will be the year in the *var_name* variable and, finally, the values will be the obesity index of each country, which will be named in the *value_name* variable."
   ]
  },
  {
   "cell_type": "code",
   "execution_count": 6,
   "metadata": {},
   "outputs": [],
   "source": [
    "#Use the *melt()* function to convert the format\n",
    "ndf = rawdata.melt('Country', var_name = 'Year', value_name = 'Obesity (%)')"
   ]
  },
  {
   "cell_type": "code",
   "execution_count": 7,
   "metadata": {},
   "outputs": [
    {
     "data": {
      "text/html": [
       "<div>\n",
       "<style scoped>\n",
       "    .dataframe tbody tr th:only-of-type {\n",
       "        vertical-align: middle;\n",
       "    }\n",
       "\n",
       "    .dataframe tbody tr th {\n",
       "        vertical-align: top;\n",
       "    }\n",
       "\n",
       "    .dataframe thead th {\n",
       "        text-align: right;\n",
       "    }\n",
       "</style>\n",
       "<table border=\"1\" class=\"dataframe\">\n",
       "  <thead>\n",
       "    <tr style=\"text-align: right;\">\n",
       "      <th></th>\n",
       "      <th>Country</th>\n",
       "      <th>Year</th>\n",
       "      <th>Obesity (%)</th>\n",
       "    </tr>\n",
       "  </thead>\n",
       "  <tbody>\n",
       "    <tr>\n",
       "      <th>0</th>\n",
       "      <td>NaN</td>\n",
       "      <td>2016</td>\n",
       "      <td>Prevalence of obesity among adults, BMI &amp;Great...</td>\n",
       "    </tr>\n",
       "    <tr>\n",
       "      <th>1</th>\n",
       "      <td>NaN</td>\n",
       "      <td>2016</td>\n",
       "      <td>18+  years</td>\n",
       "    </tr>\n",
       "    <tr>\n",
       "      <th>2</th>\n",
       "      <td>Country</td>\n",
       "      <td>2016</td>\n",
       "      <td>Both sexes</td>\n",
       "    </tr>\n",
       "    <tr>\n",
       "      <th>3</th>\n",
       "      <td>Afghanistan</td>\n",
       "      <td>2016</td>\n",
       "      <td>5.5 [3.4-8.1]</td>\n",
       "    </tr>\n",
       "    <tr>\n",
       "      <th>4</th>\n",
       "      <td>Albania</td>\n",
       "      <td>2016</td>\n",
       "      <td>21.7 [17.0-26.7]</td>\n",
       "    </tr>\n",
       "    <tr>\n",
       "      <th>...</th>\n",
       "      <td>...</td>\n",
       "      <td>...</td>\n",
       "      <td>...</td>\n",
       "    </tr>\n",
       "    <tr>\n",
       "      <th>24943</th>\n",
       "      <td>Venezuela (Bolivarian Republic of)</td>\n",
       "      <td>1975.2</td>\n",
       "      <td>13.2 [7.1-20.7]</td>\n",
       "    </tr>\n",
       "    <tr>\n",
       "      <th>24944</th>\n",
       "      <td>Viet Nam</td>\n",
       "      <td>1975.2</td>\n",
       "      <td>0.2 [0.1-0.5]</td>\n",
       "    </tr>\n",
       "    <tr>\n",
       "      <th>24945</th>\n",
       "      <td>Yemen</td>\n",
       "      <td>1975.2</td>\n",
       "      <td>4.2 [1.5-8.9]</td>\n",
       "    </tr>\n",
       "    <tr>\n",
       "      <th>24946</th>\n",
       "      <td>Zambia</td>\n",
       "      <td>1975.2</td>\n",
       "      <td>2.5 [1.0-5.1]</td>\n",
       "    </tr>\n",
       "    <tr>\n",
       "      <th>24947</th>\n",
       "      <td>Zimbabwe</td>\n",
       "      <td>1975.2</td>\n",
       "      <td>6.7 [3.0-12.2]</td>\n",
       "    </tr>\n",
       "  </tbody>\n",
       "</table>\n",
       "<p>24948 rows × 3 columns</p>\n",
       "</div>"
      ],
      "text/plain": [
       "                                  Country    Year  \\\n",
       "0                                     NaN    2016   \n",
       "1                                     NaN    2016   \n",
       "2                                 Country    2016   \n",
       "3                             Afghanistan    2016   \n",
       "4                                 Albania    2016   \n",
       "...                                   ...     ...   \n",
       "24943  Venezuela (Bolivarian Republic of)  1975.2   \n",
       "24944                            Viet Nam  1975.2   \n",
       "24945                               Yemen  1975.2   \n",
       "24946                              Zambia  1975.2   \n",
       "24947                            Zimbabwe  1975.2   \n",
       "\n",
       "                                             Obesity (%)  \n",
       "0      Prevalence of obesity among adults, BMI &Great...  \n",
       "1                                             18+  years  \n",
       "2                                             Both sexes  \n",
       "3                                          5.5 [3.4-8.1]  \n",
       "4                                       21.7 [17.0-26.7]  \n",
       "...                                                  ...  \n",
       "24943                                    13.2 [7.1-20.7]  \n",
       "24944                                      0.2 [0.1-0.5]  \n",
       "24945                                      4.2 [1.5-8.9]  \n",
       "24946                                      2.5 [1.0-5.1]  \n",
       "24947                                     6.7 [3.0-12.2]  \n",
       "\n",
       "[24948 rows x 3 columns]"
      ]
     },
     "execution_count": 7,
     "metadata": {},
     "output_type": "execute_result"
    }
   ],
   "source": [
    "ndf"
   ]
  },
  {
   "cell_type": "markdown",
   "metadata": {},
   "source": [
    "Now, the dataset is taking a better shape to perform analysis with. However, the *Obesity(%)* column is, still, not as clean as it should."
   ]
  },
  {
   "cell_type": "markdown",
   "metadata": {},
   "source": [
    "#### Sex Column"
   ]
  },
  {
   "cell_type": "markdown",
   "metadata": {},
   "source": [
    "Now that I have your attention, the transformation carried out will be on the *Year* column. Notice that the values in this column follow this format:\n",
    "\n",
    "- 1975: for the average obesity of Both sexes\n",
    "- 1975.1: for the average obesity of all male individuals\n",
    "- 1975.2: for the average obesity of all female individuals\n",
    "\n",
    "The objective is to create a column in this dataframe that holds the gender information:\n",
    "\n",
    "- Both Sexes\n",
    "- Male\n",
    "- Female\n",
    "\n",
    "The *Sex* column will be created from the decimal numbers that are present in the *Year* column as seen above. However, since there are no number for the *Both Sexes* value, the cells representing them will hold a \"None\" value. That will be addressed as well."
   ]
  },
  {
   "cell_type": "code",
   "execution_count": 8,
   "metadata": {},
   "outputs": [],
   "source": [
    "ndf[['Year', 'Sex']] = ndf['Year'].str.split('.', expand = True)"
   ]
  },
  {
   "cell_type": "code",
   "execution_count": 9,
   "metadata": {},
   "outputs": [
    {
     "data": {
      "text/html": [
       "<div>\n",
       "<style scoped>\n",
       "    .dataframe tbody tr th:only-of-type {\n",
       "        vertical-align: middle;\n",
       "    }\n",
       "\n",
       "    .dataframe tbody tr th {\n",
       "        vertical-align: top;\n",
       "    }\n",
       "\n",
       "    .dataframe thead th {\n",
       "        text-align: right;\n",
       "    }\n",
       "</style>\n",
       "<table border=\"1\" class=\"dataframe\">\n",
       "  <thead>\n",
       "    <tr style=\"text-align: right;\">\n",
       "      <th></th>\n",
       "      <th>Country</th>\n",
       "      <th>Year</th>\n",
       "      <th>Obesity (%)</th>\n",
       "      <th>Sex</th>\n",
       "    </tr>\n",
       "  </thead>\n",
       "  <tbody>\n",
       "    <tr>\n",
       "      <th>0</th>\n",
       "      <td>NaN</td>\n",
       "      <td>2016</td>\n",
       "      <td>Prevalence of obesity among adults, BMI &amp;Great...</td>\n",
       "      <td>None</td>\n",
       "    </tr>\n",
       "    <tr>\n",
       "      <th>1</th>\n",
       "      <td>NaN</td>\n",
       "      <td>2016</td>\n",
       "      <td>18+  years</td>\n",
       "      <td>None</td>\n",
       "    </tr>\n",
       "    <tr>\n",
       "      <th>2</th>\n",
       "      <td>Country</td>\n",
       "      <td>2016</td>\n",
       "      <td>Both sexes</td>\n",
       "      <td>None</td>\n",
       "    </tr>\n",
       "    <tr>\n",
       "      <th>3</th>\n",
       "      <td>Afghanistan</td>\n",
       "      <td>2016</td>\n",
       "      <td>5.5 [3.4-8.1]</td>\n",
       "      <td>None</td>\n",
       "    </tr>\n",
       "    <tr>\n",
       "      <th>4</th>\n",
       "      <td>Albania</td>\n",
       "      <td>2016</td>\n",
       "      <td>21.7 [17.0-26.7]</td>\n",
       "      <td>None</td>\n",
       "    </tr>\n",
       "    <tr>\n",
       "      <th>...</th>\n",
       "      <td>...</td>\n",
       "      <td>...</td>\n",
       "      <td>...</td>\n",
       "      <td>...</td>\n",
       "    </tr>\n",
       "    <tr>\n",
       "      <th>24943</th>\n",
       "      <td>Venezuela (Bolivarian Republic of)</td>\n",
       "      <td>1975</td>\n",
       "      <td>13.2 [7.1-20.7]</td>\n",
       "      <td>2</td>\n",
       "    </tr>\n",
       "    <tr>\n",
       "      <th>24944</th>\n",
       "      <td>Viet Nam</td>\n",
       "      <td>1975</td>\n",
       "      <td>0.2 [0.1-0.5]</td>\n",
       "      <td>2</td>\n",
       "    </tr>\n",
       "    <tr>\n",
       "      <th>24945</th>\n",
       "      <td>Yemen</td>\n",
       "      <td>1975</td>\n",
       "      <td>4.2 [1.5-8.9]</td>\n",
       "      <td>2</td>\n",
       "    </tr>\n",
       "    <tr>\n",
       "      <th>24946</th>\n",
       "      <td>Zambia</td>\n",
       "      <td>1975</td>\n",
       "      <td>2.5 [1.0-5.1]</td>\n",
       "      <td>2</td>\n",
       "    </tr>\n",
       "    <tr>\n",
       "      <th>24947</th>\n",
       "      <td>Zimbabwe</td>\n",
       "      <td>1975</td>\n",
       "      <td>6.7 [3.0-12.2]</td>\n",
       "      <td>2</td>\n",
       "    </tr>\n",
       "  </tbody>\n",
       "</table>\n",
       "<p>24948 rows × 4 columns</p>\n",
       "</div>"
      ],
      "text/plain": [
       "                                  Country  Year  \\\n",
       "0                                     NaN  2016   \n",
       "1                                     NaN  2016   \n",
       "2                                 Country  2016   \n",
       "3                             Afghanistan  2016   \n",
       "4                                 Albania  2016   \n",
       "...                                   ...   ...   \n",
       "24943  Venezuela (Bolivarian Republic of)  1975   \n",
       "24944                            Viet Nam  1975   \n",
       "24945                               Yemen  1975   \n",
       "24946                              Zambia  1975   \n",
       "24947                            Zimbabwe  1975   \n",
       "\n",
       "                                             Obesity (%)   Sex  \n",
       "0      Prevalence of obesity among adults, BMI &Great...  None  \n",
       "1                                             18+  years  None  \n",
       "2                                             Both sexes  None  \n",
       "3                                          5.5 [3.4-8.1]  None  \n",
       "4                                       21.7 [17.0-26.7]  None  \n",
       "...                                                  ...   ...  \n",
       "24943                                    13.2 [7.1-20.7]     2  \n",
       "24944                                      0.2 [0.1-0.5]     2  \n",
       "24945                                      4.2 [1.5-8.9]     2  \n",
       "24946                                      2.5 [1.0-5.1]     2  \n",
       "24947                                     6.7 [3.0-12.2]     2  \n",
       "\n",
       "[24948 rows x 4 columns]"
      ]
     },
     "execution_count": 9,
     "metadata": {},
     "output_type": "execute_result"
    }
   ],
   "source": [
    "ndf"
   ]
  },
  {
   "cell_type": "markdown",
   "metadata": {},
   "source": [
    "Since the first 3 rows hold no real information, they can be dropped."
   ]
  },
  {
   "cell_type": "code",
   "execution_count": 10,
   "metadata": {},
   "outputs": [],
   "source": [
    "ndf.drop([0,1,2], inplace = True)"
   ]
  },
  {
   "cell_type": "markdown",
   "metadata": {},
   "source": [
    "#### Obesity Column"
   ]
  },
  {
   "cell_type": "markdown",
   "metadata": {},
   "source": [
    "Looking at the obesity column, it needs to be transformed into values that can be worked with."
   ]
  },
  {
   "cell_type": "code",
   "execution_count": 11,
   "metadata": {},
   "outputs": [
    {
     "data": {
      "text/plain": [
       "No data                                                                                      504\n",
       "Prevalence of obesity among adults, BMI &GreaterEqual; 30 (age-standardized estimate) (%)    125\n",
       "18+  years                                                                                   125\n",
       "0.4 [0.1-1.0]                                                                                 55\n",
       "0.6 [0.2-1.3]                                                                                 47\n",
       "                                                                                            ... \n",
       "6.7 [3.6-11.2]                                                                                 1\n",
       "21.7 [16.1-27.9]                                                                               1\n",
       "9.1 [4.5-15.9]                                                                                 1\n",
       "15.2 [10.6-21.1]                                                                               1\n",
       "7.6 [5.5-10.4]                                                                                 1\n",
       "Name: Obesity (%), Length: 16380, dtype: int64"
      ]
     },
     "execution_count": 11,
     "metadata": {},
     "output_type": "execute_result"
    }
   ],
   "source": [
    "ndf['Obesity (%)'].value_counts()"
   ]
  },
  {
   "cell_type": "markdown",
   "metadata": {},
   "source": [
    "First of all, the simplest thing to do is to generate a new dataframe leaving out one of the values that we do not want."
   ]
  },
  {
   "cell_type": "code",
   "execution_count": 12,
   "metadata": {},
   "outputs": [],
   "source": [
    "ndf2 = ndf[ndf['Obesity (%)'] != 'No data']"
   ]
  },
  {
   "cell_type": "code",
   "execution_count": 13,
   "metadata": {},
   "outputs": [
    {
     "data": {
      "text/plain": [
       "18+  years                                                                                   125\n",
       "Prevalence of obesity among adults, BMI &GreaterEqual; 30 (age-standardized estimate) (%)    125\n",
       "0.4 [0.1-1.0]                                                                                 55\n",
       "0.6 [0.2-1.3]                                                                                 47\n",
       "0.3 [0.1-0.8]                                                                                 46\n",
       "                                                                                            ... \n",
       "21.7 [16.1-27.9]                                                                               1\n",
       "9.1 [4.5-15.9]                                                                                 1\n",
       "15.2 [10.6-21.1]                                                                               1\n",
       "20.3 [14.9-26.1]                                                                               1\n",
       "7.6 [5.5-10.4]                                                                                 1\n",
       "Name: Obesity (%), Length: 16379, dtype: int64"
      ]
     },
     "execution_count": 13,
     "metadata": {},
     "output_type": "execute_result"
    }
   ],
   "source": [
    "ndf2['Obesity (%)'].value_counts()"
   ]
  },
  {
   "cell_type": "markdown",
   "metadata": {},
   "source": [
    " Now, we generate a new column from the first element of the *Obesity (%)* column after splitting in the blank spaces."
   ]
  },
  {
   "cell_type": "code",
   "execution_count": 14,
   "metadata": {},
   "outputs": [],
   "source": [
    "ndf2['Obesity'] = ndf2['Obesity (%)'].apply(lambda bmi : bmi.split(\" \")[0])"
   ]
  },
  {
   "cell_type": "code",
   "execution_count": 15,
   "metadata": {},
   "outputs": [],
   "source": [
    "#Discard the \"Prevalence\" values\n",
    "ndf3 = ndf2[ndf2['Obesity'] != 'Prevalence']"
   ]
  },
  {
   "cell_type": "code",
   "execution_count": 16,
   "metadata": {},
   "outputs": [],
   "source": [
    "#Map all the 1's and 2's to Male and Female \n",
    "ndf3['Sex'] = ndf3['Sex'].map( {'1':'Male', '2':'Female'})"
   ]
  },
  {
   "cell_type": "markdown",
   "metadata": {},
   "source": [
    "As previously stated, the null values in the Sex column belong to the *Both Sexes* value. To fix it, we just fill those cells with the proper value."
   ]
  },
  {
   "cell_type": "code",
   "execution_count": 17,
   "metadata": {},
   "outputs": [],
   "source": [
    "ndf3['Sex'] = ndf3['Sex'].fillna('Both Sexes')"
   ]
  },
  {
   "cell_type": "code",
   "execution_count": 18,
   "metadata": {},
   "outputs": [
    {
     "data": {
      "text/plain": [
       "Female        8106\n",
       "Male          8106\n",
       "Both Sexes    8104\n",
       "Name: Sex, dtype: int64"
      ]
     },
     "execution_count": 18,
     "metadata": {},
     "output_type": "execute_result"
    }
   ],
   "source": [
    "ndf3.Sex.value_counts()"
   ]
  },
  {
   "cell_type": "markdown",
   "metadata": {},
   "source": [
    "Check once more for null values"
   ]
  },
  {
   "cell_type": "code",
   "execution_count": 19,
   "metadata": {},
   "outputs": [
    {
     "data": {
      "text/plain": [
       "Country        125\n",
       "Year             0\n",
       "Obesity (%)      0\n",
       "Sex              0\n",
       "Obesity          0\n",
       "dtype: int64"
      ]
     },
     "execution_count": 19,
     "metadata": {},
     "output_type": "execute_result"
    }
   ],
   "source": [
    "ndf3.isna().sum()"
   ]
  },
  {
   "cell_type": "markdown",
   "metadata": {},
   "source": [
    "There are 125 countries with null values, there is no value to replace them with, so the best thing is to just drop those entries."
   ]
  },
  {
   "cell_type": "code",
   "execution_count": 20,
   "metadata": {},
   "outputs": [],
   "source": [
    "ndf3.dropna(inplace = True)"
   ]
  },
  {
   "cell_type": "code",
   "execution_count": 21,
   "metadata": {},
   "outputs": [
    {
     "data": {
      "text/html": [
       "<div>\n",
       "<style scoped>\n",
       "    .dataframe tbody tr th:only-of-type {\n",
       "        vertical-align: middle;\n",
       "    }\n",
       "\n",
       "    .dataframe tbody tr th {\n",
       "        vertical-align: top;\n",
       "    }\n",
       "\n",
       "    .dataframe thead th {\n",
       "        text-align: right;\n",
       "    }\n",
       "</style>\n",
       "<table border=\"1\" class=\"dataframe\">\n",
       "  <thead>\n",
       "    <tr style=\"text-align: right;\">\n",
       "      <th></th>\n",
       "      <th>Country</th>\n",
       "      <th>Year</th>\n",
       "      <th>Obesity (%)</th>\n",
       "      <th>Sex</th>\n",
       "      <th>Obesity</th>\n",
       "    </tr>\n",
       "  </thead>\n",
       "  <tbody>\n",
       "    <tr>\n",
       "      <th>3</th>\n",
       "      <td>Afghanistan</td>\n",
       "      <td>2016</td>\n",
       "      <td>5.5 [3.4-8.1]</td>\n",
       "      <td>Both Sexes</td>\n",
       "      <td>5.5</td>\n",
       "    </tr>\n",
       "    <tr>\n",
       "      <th>4</th>\n",
       "      <td>Albania</td>\n",
       "      <td>2016</td>\n",
       "      <td>21.7 [17.0-26.7]</td>\n",
       "      <td>Both Sexes</td>\n",
       "      <td>21.7</td>\n",
       "    </tr>\n",
       "    <tr>\n",
       "      <th>5</th>\n",
       "      <td>Algeria</td>\n",
       "      <td>2016</td>\n",
       "      <td>27.4 [22.5-32.7]</td>\n",
       "      <td>Both Sexes</td>\n",
       "      <td>27.4</td>\n",
       "    </tr>\n",
       "    <tr>\n",
       "      <th>6</th>\n",
       "      <td>Andorra</td>\n",
       "      <td>2016</td>\n",
       "      <td>25.6 [20.1-31.3]</td>\n",
       "      <td>Both Sexes</td>\n",
       "      <td>25.6</td>\n",
       "    </tr>\n",
       "    <tr>\n",
       "      <th>7</th>\n",
       "      <td>Angola</td>\n",
       "      <td>2016</td>\n",
       "      <td>8.2 [5.1-12.2]</td>\n",
       "      <td>Both Sexes</td>\n",
       "      <td>8.2</td>\n",
       "    </tr>\n",
       "    <tr>\n",
       "      <th>...</th>\n",
       "      <td>...</td>\n",
       "      <td>...</td>\n",
       "      <td>...</td>\n",
       "      <td>...</td>\n",
       "      <td>...</td>\n",
       "    </tr>\n",
       "    <tr>\n",
       "      <th>24943</th>\n",
       "      <td>Venezuela (Bolivarian Republic of)</td>\n",
       "      <td>1975</td>\n",
       "      <td>13.2 [7.1-20.7]</td>\n",
       "      <td>Female</td>\n",
       "      <td>13.2</td>\n",
       "    </tr>\n",
       "    <tr>\n",
       "      <th>24944</th>\n",
       "      <td>Viet Nam</td>\n",
       "      <td>1975</td>\n",
       "      <td>0.2 [0.1-0.5]</td>\n",
       "      <td>Female</td>\n",
       "      <td>0.2</td>\n",
       "    </tr>\n",
       "    <tr>\n",
       "      <th>24945</th>\n",
       "      <td>Yemen</td>\n",
       "      <td>1975</td>\n",
       "      <td>4.2 [1.5-8.9]</td>\n",
       "      <td>Female</td>\n",
       "      <td>4.2</td>\n",
       "    </tr>\n",
       "    <tr>\n",
       "      <th>24946</th>\n",
       "      <td>Zambia</td>\n",
       "      <td>1975</td>\n",
       "      <td>2.5 [1.0-5.1]</td>\n",
       "      <td>Female</td>\n",
       "      <td>2.5</td>\n",
       "    </tr>\n",
       "    <tr>\n",
       "      <th>24947</th>\n",
       "      <td>Zimbabwe</td>\n",
       "      <td>1975</td>\n",
       "      <td>6.7 [3.0-12.2]</td>\n",
       "      <td>Female</td>\n",
       "      <td>6.7</td>\n",
       "    </tr>\n",
       "  </tbody>\n",
       "</table>\n",
       "<p>24191 rows × 5 columns</p>\n",
       "</div>"
      ],
      "text/plain": [
       "                                  Country  Year       Obesity (%)         Sex  \\\n",
       "3                             Afghanistan  2016     5.5 [3.4-8.1]  Both Sexes   \n",
       "4                                 Albania  2016  21.7 [17.0-26.7]  Both Sexes   \n",
       "5                                 Algeria  2016  27.4 [22.5-32.7]  Both Sexes   \n",
       "6                                 Andorra  2016  25.6 [20.1-31.3]  Both Sexes   \n",
       "7                                  Angola  2016    8.2 [5.1-12.2]  Both Sexes   \n",
       "...                                   ...   ...               ...         ...   \n",
       "24943  Venezuela (Bolivarian Republic of)  1975   13.2 [7.1-20.7]      Female   \n",
       "24944                            Viet Nam  1975     0.2 [0.1-0.5]      Female   \n",
       "24945                               Yemen  1975     4.2 [1.5-8.9]      Female   \n",
       "24946                              Zambia  1975     2.5 [1.0-5.1]      Female   \n",
       "24947                            Zimbabwe  1975    6.7 [3.0-12.2]      Female   \n",
       "\n",
       "      Obesity  \n",
       "3         5.5  \n",
       "4        21.7  \n",
       "5        27.4  \n",
       "6        25.6  \n",
       "7         8.2  \n",
       "...       ...  \n",
       "24943    13.2  \n",
       "24944     0.2  \n",
       "24945     4.2  \n",
       "24946     2.5  \n",
       "24947     6.7  \n",
       "\n",
       "[24191 rows x 5 columns]"
      ]
     },
     "execution_count": 21,
     "metadata": {},
     "output_type": "execute_result"
    }
   ],
   "source": [
    "ndf3"
   ]
  },
  {
   "cell_type": "markdown",
   "metadata": {},
   "source": [
    "We check if there are any more *Country* entries that have *Country* as their value."
   ]
  },
  {
   "cell_type": "code",
   "execution_count": 22,
   "metadata": {},
   "outputs": [
    {
     "data": {
      "text/html": [
       "<div>\n",
       "<style scoped>\n",
       "    .dataframe tbody tr th:only-of-type {\n",
       "        vertical-align: middle;\n",
       "    }\n",
       "\n",
       "    .dataframe tbody tr th {\n",
       "        vertical-align: top;\n",
       "    }\n",
       "\n",
       "    .dataframe thead th {\n",
       "        text-align: right;\n",
       "    }\n",
       "</style>\n",
       "<table border=\"1\" class=\"dataframe\">\n",
       "  <thead>\n",
       "    <tr style=\"text-align: right;\">\n",
       "      <th></th>\n",
       "      <th>Country</th>\n",
       "      <th>Year</th>\n",
       "      <th>Obesity (%)</th>\n",
       "      <th>Sex</th>\n",
       "      <th>Obesity</th>\n",
       "    </tr>\n",
       "  </thead>\n",
       "  <tbody>\n",
       "    <tr>\n",
       "      <th>200</th>\n",
       "      <td>Country</td>\n",
       "      <td>2016</td>\n",
       "      <td>Male</td>\n",
       "      <td>Male</td>\n",
       "      <td>Male</td>\n",
       "    </tr>\n",
       "    <tr>\n",
       "      <th>398</th>\n",
       "      <td>Country</td>\n",
       "      <td>2016</td>\n",
       "      <td>Female</td>\n",
       "      <td>Female</td>\n",
       "      <td>Female</td>\n",
       "    </tr>\n",
       "    <tr>\n",
       "      <th>596</th>\n",
       "      <td>Country</td>\n",
       "      <td>2015</td>\n",
       "      <td>Both sexes</td>\n",
       "      <td>Both Sexes</td>\n",
       "      <td>Both</td>\n",
       "    </tr>\n",
       "    <tr>\n",
       "      <th>794</th>\n",
       "      <td>Country</td>\n",
       "      <td>2015</td>\n",
       "      <td>Male</td>\n",
       "      <td>Male</td>\n",
       "      <td>Male</td>\n",
       "    </tr>\n",
       "    <tr>\n",
       "      <th>992</th>\n",
       "      <td>Country</td>\n",
       "      <td>2015</td>\n",
       "      <td>Female</td>\n",
       "      <td>Female</td>\n",
       "      <td>Female</td>\n",
       "    </tr>\n",
       "    <tr>\n",
       "      <th>...</th>\n",
       "      <td>...</td>\n",
       "      <td>...</td>\n",
       "      <td>...</td>\n",
       "      <td>...</td>\n",
       "      <td>...</td>\n",
       "    </tr>\n",
       "    <tr>\n",
       "      <th>23960</th>\n",
       "      <td>Country</td>\n",
       "      <td>1976</td>\n",
       "      <td>Male</td>\n",
       "      <td>Male</td>\n",
       "      <td>Male</td>\n",
       "    </tr>\n",
       "    <tr>\n",
       "      <th>24158</th>\n",
       "      <td>Country</td>\n",
       "      <td>1976</td>\n",
       "      <td>Female</td>\n",
       "      <td>Female</td>\n",
       "      <td>Female</td>\n",
       "    </tr>\n",
       "    <tr>\n",
       "      <th>24356</th>\n",
       "      <td>Country</td>\n",
       "      <td>1975</td>\n",
       "      <td>Both sexes</td>\n",
       "      <td>Both Sexes</td>\n",
       "      <td>Both</td>\n",
       "    </tr>\n",
       "    <tr>\n",
       "      <th>24554</th>\n",
       "      <td>Country</td>\n",
       "      <td>1975</td>\n",
       "      <td>Male</td>\n",
       "      <td>Male</td>\n",
       "      <td>Male</td>\n",
       "    </tr>\n",
       "    <tr>\n",
       "      <th>24752</th>\n",
       "      <td>Country</td>\n",
       "      <td>1975</td>\n",
       "      <td>Female</td>\n",
       "      <td>Female</td>\n",
       "      <td>Female</td>\n",
       "    </tr>\n",
       "  </tbody>\n",
       "</table>\n",
       "<p>125 rows × 5 columns</p>\n",
       "</div>"
      ],
      "text/plain": [
       "       Country  Year Obesity (%)         Sex Obesity\n",
       "200    Country  2016        Male        Male    Male\n",
       "398    Country  2016      Female      Female  Female\n",
       "596    Country  2015  Both sexes  Both Sexes    Both\n",
       "794    Country  2015        Male        Male    Male\n",
       "992    Country  2015      Female      Female  Female\n",
       "...        ...   ...         ...         ...     ...\n",
       "23960  Country  1976        Male        Male    Male\n",
       "24158  Country  1976      Female      Female  Female\n",
       "24356  Country  1975  Both sexes  Both Sexes    Both\n",
       "24554  Country  1975        Male        Male    Male\n",
       "24752  Country  1975      Female      Female  Female\n",
       "\n",
       "[125 rows x 5 columns]"
      ]
     },
     "execution_count": 22,
     "metadata": {},
     "output_type": "execute_result"
    }
   ],
   "source": [
    "ndf3[ndf3['Country']=='Country']"
   ]
  },
  {
   "cell_type": "markdown",
   "metadata": {},
   "source": [
    "Those values have to be erased"
   ]
  },
  {
   "cell_type": "code",
   "execution_count": 23,
   "metadata": {},
   "outputs": [],
   "source": [
    "ndf4 = ndf3[ndf3['Country']!='Country']"
   ]
  },
  {
   "cell_type": "code",
   "execution_count": 24,
   "metadata": {},
   "outputs": [],
   "source": [
    "#Reset index\n",
    "ndf4.reset_index(inplace = True)"
   ]
  },
  {
   "cell_type": "code",
   "execution_count": 25,
   "metadata": {},
   "outputs": [],
   "source": [
    "#Drop the index column\n",
    "del ndf4['index']"
   ]
  },
  {
   "cell_type": "code",
   "execution_count": 26,
   "metadata": {},
   "outputs": [
    {
     "data": {
      "text/html": [
       "<div>\n",
       "<style scoped>\n",
       "    .dataframe tbody tr th:only-of-type {\n",
       "        vertical-align: middle;\n",
       "    }\n",
       "\n",
       "    .dataframe tbody tr th {\n",
       "        vertical-align: top;\n",
       "    }\n",
       "\n",
       "    .dataframe thead th {\n",
       "        text-align: right;\n",
       "    }\n",
       "</style>\n",
       "<table border=\"1\" class=\"dataframe\">\n",
       "  <thead>\n",
       "    <tr style=\"text-align: right;\">\n",
       "      <th></th>\n",
       "      <th>Country</th>\n",
       "      <th>Year</th>\n",
       "      <th>Obesity (%)</th>\n",
       "      <th>Sex</th>\n",
       "      <th>Obesity</th>\n",
       "    </tr>\n",
       "  </thead>\n",
       "  <tbody>\n",
       "    <tr>\n",
       "      <th>0</th>\n",
       "      <td>Afghanistan</td>\n",
       "      <td>2016</td>\n",
       "      <td>5.5 [3.4-8.1]</td>\n",
       "      <td>Both Sexes</td>\n",
       "      <td>5.5</td>\n",
       "    </tr>\n",
       "    <tr>\n",
       "      <th>1</th>\n",
       "      <td>Albania</td>\n",
       "      <td>2016</td>\n",
       "      <td>21.7 [17.0-26.7]</td>\n",
       "      <td>Both Sexes</td>\n",
       "      <td>21.7</td>\n",
       "    </tr>\n",
       "    <tr>\n",
       "      <th>2</th>\n",
       "      <td>Algeria</td>\n",
       "      <td>2016</td>\n",
       "      <td>27.4 [22.5-32.7]</td>\n",
       "      <td>Both Sexes</td>\n",
       "      <td>27.4</td>\n",
       "    </tr>\n",
       "    <tr>\n",
       "      <th>3</th>\n",
       "      <td>Andorra</td>\n",
       "      <td>2016</td>\n",
       "      <td>25.6 [20.1-31.3]</td>\n",
       "      <td>Both Sexes</td>\n",
       "      <td>25.6</td>\n",
       "    </tr>\n",
       "    <tr>\n",
       "      <th>4</th>\n",
       "      <td>Angola</td>\n",
       "      <td>2016</td>\n",
       "      <td>8.2 [5.1-12.2]</td>\n",
       "      <td>Both Sexes</td>\n",
       "      <td>8.2</td>\n",
       "    </tr>\n",
       "    <tr>\n",
       "      <th>...</th>\n",
       "      <td>...</td>\n",
       "      <td>...</td>\n",
       "      <td>...</td>\n",
       "      <td>...</td>\n",
       "      <td>...</td>\n",
       "    </tr>\n",
       "    <tr>\n",
       "      <th>24061</th>\n",
       "      <td>Venezuela (Bolivarian Republic of)</td>\n",
       "      <td>1975</td>\n",
       "      <td>13.2 [7.1-20.7]</td>\n",
       "      <td>Female</td>\n",
       "      <td>13.2</td>\n",
       "    </tr>\n",
       "    <tr>\n",
       "      <th>24062</th>\n",
       "      <td>Viet Nam</td>\n",
       "      <td>1975</td>\n",
       "      <td>0.2 [0.1-0.5]</td>\n",
       "      <td>Female</td>\n",
       "      <td>0.2</td>\n",
       "    </tr>\n",
       "    <tr>\n",
       "      <th>24063</th>\n",
       "      <td>Yemen</td>\n",
       "      <td>1975</td>\n",
       "      <td>4.2 [1.5-8.9]</td>\n",
       "      <td>Female</td>\n",
       "      <td>4.2</td>\n",
       "    </tr>\n",
       "    <tr>\n",
       "      <th>24064</th>\n",
       "      <td>Zambia</td>\n",
       "      <td>1975</td>\n",
       "      <td>2.5 [1.0-5.1]</td>\n",
       "      <td>Female</td>\n",
       "      <td>2.5</td>\n",
       "    </tr>\n",
       "    <tr>\n",
       "      <th>24065</th>\n",
       "      <td>Zimbabwe</td>\n",
       "      <td>1975</td>\n",
       "      <td>6.7 [3.0-12.2]</td>\n",
       "      <td>Female</td>\n",
       "      <td>6.7</td>\n",
       "    </tr>\n",
       "  </tbody>\n",
       "</table>\n",
       "<p>24066 rows × 5 columns</p>\n",
       "</div>"
      ],
      "text/plain": [
       "                                  Country  Year       Obesity (%)         Sex  \\\n",
       "0                             Afghanistan  2016     5.5 [3.4-8.1]  Both Sexes   \n",
       "1                                 Albania  2016  21.7 [17.0-26.7]  Both Sexes   \n",
       "2                                 Algeria  2016  27.4 [22.5-32.7]  Both Sexes   \n",
       "3                                 Andorra  2016  25.6 [20.1-31.3]  Both Sexes   \n",
       "4                                  Angola  2016    8.2 [5.1-12.2]  Both Sexes   \n",
       "...                                   ...   ...               ...         ...   \n",
       "24061  Venezuela (Bolivarian Republic of)  1975   13.2 [7.1-20.7]      Female   \n",
       "24062                            Viet Nam  1975     0.2 [0.1-0.5]      Female   \n",
       "24063                               Yemen  1975     4.2 [1.5-8.9]      Female   \n",
       "24064                              Zambia  1975     2.5 [1.0-5.1]      Female   \n",
       "24065                            Zimbabwe  1975    6.7 [3.0-12.2]      Female   \n",
       "\n",
       "      Obesity  \n",
       "0         5.5  \n",
       "1        21.7  \n",
       "2        27.4  \n",
       "3        25.6  \n",
       "4         8.2  \n",
       "...       ...  \n",
       "24061    13.2  \n",
       "24062     0.2  \n",
       "24063     4.2  \n",
       "24064     2.5  \n",
       "24065     6.7  \n",
       "\n",
       "[24066 rows x 5 columns]"
      ]
     },
     "execution_count": 26,
     "metadata": {},
     "output_type": "execute_result"
    }
   ],
   "source": [
    "ndf4"
   ]
  },
  {
   "cell_type": "code",
   "execution_count": 27,
   "metadata": {},
   "outputs": [
    {
     "data": {
      "text/html": [
       "<div>\n",
       "<style scoped>\n",
       "    .dataframe tbody tr th:only-of-type {\n",
       "        vertical-align: middle;\n",
       "    }\n",
       "\n",
       "    .dataframe tbody tr th {\n",
       "        vertical-align: top;\n",
       "    }\n",
       "\n",
       "    .dataframe thead th {\n",
       "        text-align: right;\n",
       "    }\n",
       "</style>\n",
       "<table border=\"1\" class=\"dataframe\">\n",
       "  <thead>\n",
       "    <tr style=\"text-align: right;\">\n",
       "      <th></th>\n",
       "      <th>count</th>\n",
       "      <th>unique</th>\n",
       "      <th>top</th>\n",
       "      <th>freq</th>\n",
       "    </tr>\n",
       "  </thead>\n",
       "  <tbody>\n",
       "    <tr>\n",
       "      <th>Country</th>\n",
       "      <td>24066</td>\n",
       "      <td>191</td>\n",
       "      <td>Hungary</td>\n",
       "      <td>126</td>\n",
       "    </tr>\n",
       "    <tr>\n",
       "      <th>Year</th>\n",
       "      <td>24066</td>\n",
       "      <td>42</td>\n",
       "      <td>1994</td>\n",
       "      <td>573</td>\n",
       "    </tr>\n",
       "    <tr>\n",
       "      <th>Obesity (%)</th>\n",
       "      <td>24066</td>\n",
       "      <td>16374</td>\n",
       "      <td>0.4 [0.1-1.0]</td>\n",
       "      <td>55</td>\n",
       "    </tr>\n",
       "    <tr>\n",
       "      <th>Sex</th>\n",
       "      <td>24066</td>\n",
       "      <td>3</td>\n",
       "      <td>Female</td>\n",
       "      <td>8022</td>\n",
       "    </tr>\n",
       "    <tr>\n",
       "      <th>Obesity</th>\n",
       "      <td>24066</td>\n",
       "      <td>601</td>\n",
       "      <td>0.4</td>\n",
       "      <td>222</td>\n",
       "    </tr>\n",
       "  </tbody>\n",
       "</table>\n",
       "</div>"
      ],
      "text/plain": [
       "             count unique            top  freq\n",
       "Country      24066    191        Hungary   126\n",
       "Year         24066     42           1994   573\n",
       "Obesity (%)  24066  16374  0.4 [0.1-1.0]    55\n",
       "Sex          24066      3         Female  8022\n",
       "Obesity      24066    601            0.4   222"
      ]
     },
     "execution_count": 27,
     "metadata": {},
     "output_type": "execute_result"
    }
   ],
   "source": [
    "ndf4.describe().transpose()"
   ]
  },
  {
   "cell_type": "markdown",
   "metadata": {},
   "source": [
    "Since the describe() method did not return any statistics, there are no numerical columns in the data frame"
   ]
  },
  {
   "cell_type": "code",
   "execution_count": 28,
   "metadata": {},
   "outputs": [
    {
     "name": "stdout",
     "output_type": "stream",
     "text": [
      "<class 'pandas.core.frame.DataFrame'>\n",
      "RangeIndex: 24066 entries, 0 to 24065\n",
      "Data columns (total 5 columns):\n",
      " #   Column       Non-Null Count  Dtype \n",
      "---  ------       --------------  ----- \n",
      " 0   Country      24066 non-null  object\n",
      " 1   Year         24066 non-null  object\n",
      " 2   Obesity (%)  24066 non-null  object\n",
      " 3   Sex          24066 non-null  object\n",
      " 4   Obesity      24066 non-null  object\n",
      "dtypes: object(5)\n",
      "memory usage: 940.2+ KB\n"
     ]
    }
   ],
   "source": [
    "ndf4.info()"
   ]
  },
  {
   "cell_type": "markdown",
   "metadata": {},
   "source": [
    "We need to change the data type to datetime for the Year column and to float for the Obesity Column"
   ]
  },
  {
   "cell_type": "code",
   "execution_count": 29,
   "metadata": {},
   "outputs": [],
   "source": [
    "ndf4 = ndf4.astype({'Obesity': float})"
   ]
  },
  {
   "cell_type": "code",
   "execution_count": 30,
   "metadata": {},
   "outputs": [],
   "source": [
    "ndf4['Year'] = pd.to_datetime(ndf4['Year'])"
   ]
  },
  {
   "cell_type": "code",
   "execution_count": 31,
   "metadata": {},
   "outputs": [],
   "source": [
    "#We just take the year\n",
    "ndf4['Year'] = ndf4['Year'].apply(lambda date : date.year)"
   ]
  },
  {
   "cell_type": "code",
   "execution_count": 32,
   "metadata": {},
   "outputs": [
    {
     "name": "stdout",
     "output_type": "stream",
     "text": [
      "<class 'pandas.core.frame.DataFrame'>\n",
      "RangeIndex: 24066 entries, 0 to 24065\n",
      "Data columns (total 5 columns):\n",
      " #   Column       Non-Null Count  Dtype  \n",
      "---  ------       --------------  -----  \n",
      " 0   Country      24066 non-null  object \n",
      " 1   Year         24066 non-null  int64  \n",
      " 2   Obesity (%)  24066 non-null  object \n",
      " 3   Sex          24066 non-null  object \n",
      " 4   Obesity      24066 non-null  float64\n",
      "dtypes: float64(1), int64(1), object(3)\n",
      "memory usage: 940.2+ KB\n"
     ]
    }
   ],
   "source": [
    "ndf4.info()"
   ]
  },
  {
   "cell_type": "markdown",
   "metadata": {},
   "source": [
    "Now the data is ready to perform visualizations"
   ]
  },
  {
   "cell_type": "markdown",
   "metadata": {},
   "source": [
    "# EDA"
   ]
  },
  {
   "cell_type": "markdown",
   "metadata": {},
   "source": [
    "A good and straight visualization to give context is to visualize the evolution of all data with respect to time. More specifically, the average obesity in all countries, by year and gender."
   ]
  },
  {
   "cell_type": "code",
   "execution_count": 33,
   "metadata": {},
   "outputs": [
    {
     "data": {
      "image/png": "[encoded data removed]",
      "text/plain": [
       "<Figure size 1440x360 with 1 Axes>"
      ]
     },
     "metadata": {
      "needs_background": "light"
     },
     "output_type": "display_data"
    }
   ],
   "source": [
    "plt.figure(figsize = (20,5))\n",
    "\n",
    "sns.lineplot(x = 'Year', y = 'Obesity', data = ndf4, hue = 'Sex')\n",
    "plt.title('Average obesity by gender', size = 20)\n",
    "plt.show()"
   ]
  },
  {
   "cell_type": "markdown",
   "metadata": {},
   "source": [
    "I want to compare the distribution of each gender in front of the other through time. To do so, I have decided to compare the starting and ending time periods with an intermediate point.\n",
    "\n",
    "Time periods to explore:\n",
    "\n",
    "- 1975\n",
    "- 1994\n",
    "- 2016\n",
    "\n",
    "\n",
    "The intermediate period has been chosen arbitrarely"
   ]
  },
  {
   "cell_type": "code",
   "execution_count": 34,
   "metadata": {},
   "outputs": [
    {
     "data": {
      "image/png": "[encoded data removed]",
      "text/plain": [
       "<Figure size 1440x360 with 1 Axes>"
      ]
     },
     "metadata": {
      "needs_background": "light"
     },
     "output_type": "display_data"
    }
   ],
   "source": [
    "plt.figure(figsize = (20, 5))\n",
    "\n",
    "data_4_plot = ndf4[(ndf4.Sex!='Both Sexes')&ndf4.Year.isin([1980,1994,2016])]\n",
    "\n",
    "sns.violinplot(x = 'Year', y = 'Obesity', hue = 'Sex', data = data_4_plot,\n",
    "              split = True, palette = \"Set2\")\n",
    "plt.title(\"Comparison between Male and Female Obesity\", size = 26)\n",
    "\n",
    "plt.ylabel('Obesity', size = 20)\n",
    "\n",
    "\n",
    "plt.xlabel('Year', size = 20)\n",
    "plt.xticks(size = 15)\n",
    "\n",
    "plt.show()"
   ]
  },
  {
   "cell_type": "markdown",
   "metadata": {},
   "source": [
    "Now, these two visualizations provide a good insight on the trend that obesity has been following for the past 40 years, as well as on how obesity distributes over the genders.\n",
    "\n",
    "Nonetheless, a drawback to this information is that we do not get the insight on the most obese countries. And even if we did, perhaps a more interesting data would be if those countries have had their obesity indicators grow over time. So, next step, find the countries that have had the greatest growth."
   ]
  },
  {
   "cell_type": "markdown",
   "metadata": {},
   "source": [
    "# Countries with the greatest growth?"
   ]
  },
  {
   "cell_type": "markdown",
   "metadata": {},
   "source": [
    "How can we find them? Well, first it is necessary to define *growth*. We will define it as the difference between a starting point and an end point. Whether the country has experienced growth or not will be given to us by the resulting sign."
   ]
  },
  {
   "cell_type": "markdown",
   "metadata": {},
   "source": [
    "We define a function to compute it for every country that we pass"
   ]
  },
  {
   "cell_type": "code",
   "execution_count": 35,
   "metadata": {},
   "outputs": [],
   "source": [
    "def growth(data, country, start, end):\n",
    "    \n",
    "    data = data[data['Country'] == country]\n",
    "    \n",
    "    start_data = data[(data['Year']==start)&(data['Sex'] == 'Both Sexes')]['Obesity'].values\n",
    "    end_data = data[(data['Year'] == end)&(data['Sex'] == 'Both Sexes')]['Obesity'].values\n",
    "    \n",
    "    growth = end_data-start_data\n",
    "    \n",
    "    \n",
    "    \n",
    "    \n",
    "    return growth    "
   ]
  },
  {
   "cell_type": "markdown",
   "metadata": {},
   "source": [
    "With it we will build a dictionary with the countries as keys and their obesity as value via dictionary comprehension."
   ]
  },
  {
   "cell_type": "code",
   "execution_count": 36,
   "metadata": {},
   "outputs": [],
   "source": [
    "growth_df = {country:growth(ndf4,country,1975,2016) for country in ndf4['Country']}"
   ]
  },
  {
   "cell_type": "code",
   "execution_count": 37,
   "metadata": {},
   "outputs": [],
   "source": [
    "#Generate a Dataframe from it\n",
    "g_df = pd.DataFrame(growth_df).transpose()"
   ]
  },
  {
   "cell_type": "code",
   "execution_count": 38,
   "metadata": {},
   "outputs": [],
   "source": [
    "#Rename the column to a more descriptive name\n",
    "g_df.rename(columns = {0:'Obesity Growth'}, inplace = True)"
   ]
  },
  {
   "cell_type": "code",
   "execution_count": 39,
   "metadata": {},
   "outputs": [],
   "source": [
    "#Sort the values \n",
    "g_df.sort_values('Obesity Growth', inplace = True, ascending = False)"
   ]
  },
  {
   "cell_type": "code",
   "execution_count": 40,
   "metadata": {},
   "outputs": [],
   "source": [
    "#reset Index to be able to access the countries of interest in the visualizations\n",
    "g_df.reset_index(inplace = True)\n",
    "\n",
    "#Rename the column to countries\n",
    "g_df.rename(columns = {'index':'Countries'}, inplace = True)"
   ]
  },
  {
   "cell_type": "code",
   "execution_count": 41,
   "metadata": {},
   "outputs": [],
   "source": [
    "#Change a string that was too long \n",
    "g_df.Countries = g_df.Countries.str.replace('Federated States of', 'FSo')"
   ]
  },
  {
   "cell_type": "markdown",
   "metadata": {},
   "source": [
    "### Visualizations"
   ]
  },
  {
   "cell_type": "code",
   "execution_count": 42,
   "metadata": {},
   "outputs": [
    {
     "data": {
      "image/png": "[encoded data removed]",
      "text/plain": [
       "<Figure size 1440x360 with 1 Axes>"
      ]
     },
     "metadata": {
      "needs_background": "light"
     },
     "output_type": "display_data"
    }
   ],
   "source": [
    "#lets see the highest 20\n",
    "\n",
    "\n",
    "fig = plt.figure(figsize = (20,5))\n",
    "\n",
    "ax = fig.add_subplot(211)\n",
    "sns.barplot(x = 'Countries',y = 'Obesity Growth',data = g_df.iloc[:20].reset_index(), ax = ax)\n",
    "plt.xticks(rotation = 80, size = 15)\n",
    "plt.xlabel('Countries', size = 20)\n",
    "\n",
    "plt.title('Countries With The Most Obesity Growth', size = 20)\n",
    "\n",
    "\n",
    "plt.show()"
   ]
  },
  {
   "cell_type": "code",
   "execution_count": 43,
   "metadata": {},
   "outputs": [
    {
     "data": {
      "image/png": "[encoded data removed]",
      "text/plain": [
       "<Figure size 1440x360 with 1 Axes>"
      ]
     },
     "metadata": {
      "needs_background": "light"
     },
     "output_type": "display_data"
    }
   ],
   "source": [
    "#And now the lowest 20\n",
    "\n",
    "\n",
    "fig = plt.figure(figsize = (20,5))\n",
    "\n",
    "ax = fig.add_subplot(211)\n",
    "sns.barplot(x = 'Countries',y = 'Obesity Growth',data = g_df.iloc[-20:].reset_index(), ax = ax)\n",
    "plt.xticks(rotation = 80, size = 15)\n",
    "\n",
    "plt.xlabel('Countries', size = 20)\n",
    "\n",
    "plt.title('Countries With The Least Obesity Growth', size = 20)\n",
    "\n",
    "\n",
    "plt.show()"
   ]
  },
  {
   "cell_type": "markdown",
   "metadata": {},
   "source": [
    "With the data we have there's not much explanation as to why these countries are the most obese in the world. However, with a quick search, it can be stated that population-wise they're not the same. Lets compare Tuvalu and Vietnam\n",
    "\n",
    "Population:\n",
    "\n",
    "    - Tuvalu: 11.508 \n",
    "    \n",
    "    - Vietnam: 95.54 millions \n",
    "    \n",
    "    \n",
    "Source: World Bank"
   ]
  },
  {
   "cell_type": "markdown",
   "metadata": {},
   "source": [
    "A good idea would be to add a column with each country's population in order to be able to draw a more realistic comparison among them all."
   ]
  }
 ],
 "metadata": {
  "kernelspec": {
   "display_name": "Python 3",
   "language": "python",
   "name": "python3"
  },
  "language_info": {
   "codemirror_mode": {
    "name": "ipython",
    "version": 3
   },
   "file_extension": ".py",
   "mimetype": "text/x-python",
   "name": "python",
   "nbconvert_exporter": "python",
   "pygments_lexer": "ipython3",
   "version": "3.7.9"
  }
 },
 "nbformat": 4,
 "nbformat_minor": 4
}
